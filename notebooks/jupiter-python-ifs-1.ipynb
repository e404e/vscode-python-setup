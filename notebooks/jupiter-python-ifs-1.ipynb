{
 "cells": [
  {
   "cell_type": "code",
   "execution_count": 5,
   "metadata": {},
   "outputs": [
    {
     "name": "stdout",
     "output_type": "stream",
     "text": [
      "Y is >19\n",
      "it is: 25\n"
     ]
    }
   ],
   "source": [
    "# using \"elif\"\n",
    "y = 25\n",
    "if y < 10:\n",
    "  print (\"Y is <10\")\n",
    "  print (\"it is:\",y)\n",
    "elif y >10 and y <19:\n",
    "  print (\"Y is >10 and <19\")\n",
    "  print (\"it is:\",y)\n",
    "else:\n",
    "  print (\"Y is >19\")\n",
    "  print (\"it is:\", y)"
   ]
  },
  {
   "cell_type": "code",
   "execution_count": null,
   "metadata": {},
   "outputs": [],
   "source": []
  }
 ],
 "metadata": {
  "kernelspec": {
   "display_name": ".venv",
   "language": "python",
   "name": "python3"
  },
  "language_info": {
   "codemirror_mode": {
    "name": "ipython",
    "version": 3
   },
   "file_extension": ".py",
   "mimetype": "text/x-python",
   "name": "python",
   "nbconvert_exporter": "python",
   "pygments_lexer": "ipython3",
   "version": "3.9.6"
  }
 },
 "nbformat": 4,
 "nbformat_minor": 2
}
