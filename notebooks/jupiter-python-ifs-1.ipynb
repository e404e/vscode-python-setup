{
 "cells": [
  {
   "cell_type": "code",
   "execution_count": null,
   "metadata": {},
   "outputs": [],
   "source": [
    "# using \"elif\"\n",
    "y = 25\n",
    "if y < 10:\n",
    "  print (\"Y is <10\")\n",
    "  print (\"it is:\",y)\n",
    "elif y >10 and y <19:\n",
    "  print (\"Y is >10 and <19\")\n",
    "  print (\"it is:\",y)\n",
    "else:\n",
    "  print (\"Y is >19\")\n",
    "  print (\"it is:\", y)"
   ]
  }
 ],
 "metadata": {
  "language_info": {
   "name": "python"
  }
 },
 "nbformat": 4,
 "nbformat_minor": 2
}
